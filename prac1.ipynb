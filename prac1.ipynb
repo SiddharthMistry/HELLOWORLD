{
  "nbformat": 4,
  "nbformat_minor": 0,
  "metadata": {
    "colab": {
      "provenance": [],
      "authorship_tag": "ABX9TyMJZSiOixoy7mAqGPlFr8Dn",
      "include_colab_link": true
    },
    "kernelspec": {
      "name": "python3",
      "display_name": "Python 3"
    },
    "language_info": {
      "name": "python"
    }
  },
  "cells": [
    {
      "cell_type": "markdown",
      "metadata": {
        "id": "view-in-github",
        "colab_type": "text"
      },
      "source": [
        "<a href=\"https://colab.research.google.com/github/SiddharthMistry/HELLOWORLD/blob/circleci-project-setup/prac1.ipynb\" target=\"_parent\"><img src=\"https://colab.research.google.com/assets/colab-badge.svg\" alt=\"Open In Colab\"/></a>"
      ]
    },
    {
      "cell_type": "code",
      "execution_count": 13,
      "metadata": {
        "colab": {
          "base_uri": "https://localhost:8080/"
        },
        "id": "fg1NjotOF2QS",
        "outputId": "29deb3e2-ec38-434f-f3d6-828ce53f5db5"
      },
      "outputs": [
        {
          "output_type": "stream",
          "name": "stdout",
          "text": [
            "Outcome : [3282.]\n",
            "Coefficients : [0. 0. 0.]\n"
          ]
        }
      ],
      "source": [
        "from random import randint\n",
        "\n",
        "TRAIN_SET_LIMIT = 1000\n",
        "\n",
        "TRAIN_SET_COUNT = 100\n",
        "\n",
        "TRAIN_INPUT = list()\n",
        "TRAIN_OUTPUT = list()\n",
        "for i in range(TRAIN_SET_COUNT):\n",
        "  a = randint(0, TRAIN_SET_LIMIT)\n",
        "  b = randint(0, TRAIN_SET_LIMIT)\n",
        "  c = randint(0, TRAIN_SET_LIMIT)\n",
        "\n",
        "op = a + (2 * b) + (3 * c)\n",
        "TRAIN_INPUT.append([a, b, c])\n",
        "\n",
        "TRAIN_OUTPUT.append(op)\n",
        "TRAIN_OUTPUT[:10]\n",
        "TRAIN_OUTPUT[:10]\n",
        "\n",
        "from sklearn.linear_model import LinearRegression\n",
        "\n",
        "predictor = LinearRegression(n_jobs =-1)\n",
        "\n",
        "predictor.fit(X = TRAIN_INPUT, y = TRAIN_OUTPUT)\n",
        "\n",
        "X_TEST = [[ 10, 20, 30 ]]\t#---> 10 + 20*2 + 30*3 = 140.\n",
        "outcome = predictor.predict(X = X_TEST)\n",
        "\n",
        "coefficients = predictor.coef_\n",
        "\n",
        "print('Outcome : {}\\nCoefficients : {}'.format(outcome, coefficients))"
      ]
    },
    {
      "cell_type": "code",
      "source": [],
      "metadata": {
        "id": "lJjLmtJ8Ic_e"
      },
      "execution_count": null,
      "outputs": []
    },
    {
      "cell_type": "markdown",
      "source": [],
      "metadata": {
        "id": "MIxPOHvmImFS"
      }
    },
    {
      "cell_type": "code",
      "source": [],
      "metadata": {
        "id": "yIpali0oImjC"
      },
      "execution_count": null,
      "outputs": []
    },
    {
      "cell_type": "code",
      "source": [],
      "metadata": {
        "id": "gG9qOiszI2jA"
      },
      "execution_count": null,
      "outputs": []
    }
  ]
}